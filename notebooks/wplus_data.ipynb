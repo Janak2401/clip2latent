{
 "cells": [
  {
   "cell_type": "code",
   "execution_count": 1,
   "id": "f873e08f-b331-4466-bd65-c10d4aa7cc25",
   "metadata": {},
   "outputs": [
    {
     "name": "stderr",
     "output_type": "stream",
     "text": [
      "/home/jpinkney/miniconda3/envs/clip2latent/lib/python3.9/site-packages/tqdm/auto.py:22: TqdmWarning: IProgress not found. Please update jupyter and ipywidgets. See https://ipywidgets.readthedocs.io/en/stable/user_install.html\n",
      "  from .autonotebook import tqdm as notebook_tqdm\n"
     ]
    }
   ],
   "source": [
    "import train\n",
    "import torch\n",
    "import webdataset as wds\n",
    "from omegaconf import OmegaConf\n",
    "import matplotlib.pyplot as plt\n",
    "import numpy as np"
   ]
  },
  {
   "cell_type": "code",
   "execution_count": 2,
   "id": "bd66fa4a-16ac-4ac1-8d94-c74032086e41",
   "metadata": {},
   "outputs": [],
   "source": [
    "from clip2latent.latent_prior import WPlusPriorNetwork"
   ]
  },
  {
   "cell_type": "code",
   "execution_count": 8,
   "id": "0dc90d8c-f2c8-45ed-9b50-6598d0ce2b22",
   "metadata": {},
   "outputs": [],
   "source": [
    "cfg = {\"data\": {\n",
    "    'bs': 128,\n",
    "    'format': 'webdataset',\n",
    "    'path': 'data/webdataset/sg2-ffhq-1024-clip/{00000..99}.tar',\n",
    "    'embed_noise_scale': 0.75,\n",
    "    'sg_pkl': 'https://api.ngc.nvidia.com/v2/models/nvidia/research/stylegan2/versions/1/files/stylegan2-ffhq-1024x1024.pkl',\n",
    "    'clip_variant': \"ViT-B/32\",\n",
    "    'n_latents': 1,\n",
    "    'latent_repeats': [18],\n",
    "}\n",
    "}\n",
    "cfg = OmegaConf.create(cfg)\n",
    "stats, data = train.load_data(cfg.data)"
   ]
  },
  {
   "cell_type": "code",
   "execution_count": 9,
   "id": "13ba1335-e9d2-4043-977c-be9210e08bd9",
   "metadata": {},
   "outputs": [],
   "source": [
    "datum = next(data.__iter__())"
   ]
  },
  {
   "cell_type": "code",
   "execution_count": 10,
   "id": "34a14c39-be76-463d-b6a9-4fb68accbd6d",
   "metadata": {},
   "outputs": [
    {
     "data": {
      "text/plain": [
       "torch.Size([128, 512])"
      ]
     },
     "execution_count": 10,
     "metadata": {},
     "output_type": "execute_result"
    }
   ],
   "source": [
    "datum[1].shape"
   ]
  },
  {
   "cell_type": "code",
   "execution_count": 6,
   "id": "e3f66333-8001-4b3e-88c2-31b5c15289ee",
   "metadata": {},
   "outputs": [],
   "source": [
    "net = WPlusPriorNetwork(dim=512, num_timesteps=100, depth=6, dim_head=64, heads=8)"
   ]
  },
  {
   "cell_type": "code",
   "execution_count": 7,
   "id": "d534e627-8b9f-4f9f-8c49-1b5cba7b984b",
   "metadata": {},
   "outputs": [],
   "source": [
    "device = \"cuda:1\"\n",
    "t = torch.tensor([1, 2], dtype=torch.long, device=device)\n",
    "net.to(device)\n",
    "out = net(torch.randn(2, 18, 512, device=device),\n",
    "          diffusion_timesteps=t,\n",
    "          text_embed=torch.randn(2, 512, device=device))"
   ]
  },
  {
   "cell_type": "code",
   "execution_count": 8,
   "id": "98f0367b-7240-4524-b17d-5ed665c40b4e",
   "metadata": {},
   "outputs": [
    {
     "ename": "NameError",
     "evalue": "name 'ZWPrior' is not defined",
     "output_type": "error",
     "traceback": [
      "\u001b[0;31m---------------------------------------------------------------------------\u001b[0m",
      "\u001b[0;31mNameError\u001b[0m                                 Traceback (most recent call last)",
      "Input \u001b[0;32mIn [8]\u001b[0m, in \u001b[0;36m<cell line: 1>\u001b[0;34m()\u001b[0m\n\u001b[0;32m----> 1\u001b[0m prior \u001b[38;5;241m=\u001b[39m \u001b[43mZWPrior\u001b[49m(net, image_embed_dim\u001b[38;5;241m=\u001b[39m\u001b[38;5;241m512\u001b[39m, timesteps\u001b[38;5;241m=\u001b[39m\u001b[38;5;241m100\u001b[39m, image_embed_scale\u001b[38;5;241m=\u001b[39m\u001b[38;5;241m1.0\u001b[39m)\n",
      "\u001b[0;31mNameError\u001b[0m: name 'ZWPrior' is not defined"
     ]
    }
   ],
   "source": [
    "prior = ZWPrior(net, image_embed_dim=512, timesteps=100, image_embed_scale=1.0)"
   ]
  },
  {
   "cell_type": "code",
   "execution_count": 9,
   "id": "b7230ce9-62f6-4dec-a3dd-76b5ba00c7ba",
   "metadata": {},
   "outputs": [
    {
     "ename": "NameError",
     "evalue": "name 'prior' is not defined",
     "output_type": "error",
     "traceback": [
      "\u001b[0;31m---------------------------------------------------------------------------\u001b[0m",
      "\u001b[0;31mNameError\u001b[0m                                 Traceback (most recent call last)",
      "Input \u001b[0;32mIn [9]\u001b[0m, in \u001b[0;36m<cell line: 1>\u001b[0;34m()\u001b[0m\n\u001b[0;32m----> 1\u001b[0m \u001b[43mprior\u001b[49m\u001b[38;5;241m.\u001b[39mto(device)\n\u001b[1;32m      2\u001b[0m prior(\n\u001b[1;32m      3\u001b[0m     image_embed\u001b[38;5;241m=\u001b[39mtorch\u001b[38;5;241m.\u001b[39mrandn(\u001b[38;5;241m2\u001b[39m, \u001b[38;5;241m18\u001b[39m, \u001b[38;5;241m512\u001b[39m, device\u001b[38;5;241m=\u001b[39mdevice), \n\u001b[1;32m      4\u001b[0m     text_embed\u001b[38;5;241m=\u001b[39mtorch\u001b[38;5;241m.\u001b[39mrandn(\u001b[38;5;241m2\u001b[39m, \u001b[38;5;241m512\u001b[39m, device\u001b[38;5;241m=\u001b[39mdevice))\n",
      "\u001b[0;31mNameError\u001b[0m: name 'prior' is not defined"
     ]
    }
   ],
   "source": [
    "prior.to(device)\n",
    "prior(\n",
    "    image_embed=torch.randn(2, 18, 512, device=device), \n",
    "    text_embed=torch.randn(2, 512, device=device))"
   ]
  },
  {
   "cell_type": "code",
   "execution_count": 11,
   "id": "8c06c06f-e399-4856-94da-e6a079d817dc",
   "metadata": {},
   "outputs": [
    {
     "data": {
      "text/plain": [
       "(128, 512)"
      ]
     },
     "execution_count": 11,
     "metadata": {},
     "output_type": "execute_result"
    }
   ],
   "source": [
    "d = datum[0].detach().cpu().numpy()\n",
    "d.shape"
   ]
  },
  {
   "cell_type": "code",
   "execution_count": 12,
   "id": "7286c8ed-3b7a-4fdd-8525-2a5d86303435",
   "metadata": {},
   "outputs": [
    {
     "data": {
      "text/plain": [
       "tensor(2.1074, dtype=torch.float16)"
      ]
     },
     "execution_count": 12,
     "metadata": {},
     "output_type": "execute_result"
    }
   ],
   "source": [
    "(np.sqrt(512)/datum[0].norm(dim=1)).mean()"
   ]
  },
  {
   "cell_type": "code",
   "execution_count": 36,
   "id": "5469c1ae-96fb-46a4-b022-a35fdc176d12",
   "metadata": {},
   "outputs": [
    {
     "name": "stdout",
     "output_type": "stream",
     "text": [
      "tensor([11.1016,  9.9531,  9.3594, 11.0391, 10.1094, 11.1328, 10.7031,  9.9062,\n",
      "        10.4062, 11.2266, 11.5391, 11.3516, 10.7656, 10.9375, 11.5781, 11.3672,\n",
      "        11.4531, 10.5469, 10.5938, 10.9453, 11.2031, 10.7266, 10.1172, 10.5234,\n",
      "        11.6172, 10.8594, 10.0625, 10.1250, 10.4141, 11.0547,  9.3906, 10.8281,\n",
      "        10.7500, 11.7500, 10.7812, 11.2109, 11.1172, 10.5234, 10.1797, 11.0781,\n",
      "         9.6406, 10.0000, 10.7578, 10.4609, 10.3438, 11.7031, 10.9141, 11.1172,\n",
      "        11.4922, 11.2344, 10.7812, 10.5938, 11.4062, 10.8906, 11.3438, 10.3359,\n",
      "        10.8672, 11.7500, 11.8359, 12.3047, 10.4141, 11.9531, 10.4688, 10.2812,\n",
      "        10.0312, 10.2031,  9.8984, 10.8906, 11.5156, 10.8906, 10.4688, 11.4531,\n",
      "        11.5078, 11.3594, 10.8906, 11.2109, 10.4844, 10.9922, 11.3203, 11.0234,\n",
      "        10.8906, 10.9297, 10.2266, 11.5391, 11.0078, 10.7734, 10.7734, 10.8750,\n",
      "         9.8828, 10.0312, 11.3125, 11.2578, 11.4766, 10.3203,  9.9297, 11.3281,\n",
      "        10.8359, 10.2109, 10.7578, 11.2109, 11.3516, 10.2578, 11.5703, 11.5547,\n",
      "        11.4062, 11.6797, 10.3906, 10.9062, 11.4531, 10.5547, 11.3906,  9.5078,\n",
      "        10.2969,  9.7812, 11.6719, 11.3672,  9.8750, 10.4219, 11.3438, 11.2031,\n",
      "        10.7109, 11.0547, 10.8594, 10.8281, 11.1094, 10.7500, 12.2500, 10.2969],\n",
      "       dtype=torch.float16)\n"
     ]
    }
   ],
   "source": [
    "x = datum[0]\n",
    "scale = 0.75\n",
    "orig_norm = x.norm(dim=-1, keepdim=True)\n",
    "# print(x.norm(dim=1))\n",
    "\n",
    "x = x/orig_norm\n",
    "\n",
    "noise = torch.randn_like(x)\n",
    "noise /= noise.norm(dim=-1, keepdim=True)\n",
    "x += scale*noise\n",
    "\n",
    "x /= x.norm(dim=-1, keepdim=True)\n",
    "x *= orig_norm\n",
    "\n",
    "print(x.norm(dim=1))"
   ]
  },
  {
   "cell_type": "code",
   "execution_count": 21,
   "id": "a30d93ec-fca7-4551-b6e6-4e29f856d783",
   "metadata": {},
   "outputs": [
    {
     "data": {
      "text/plain": [
       "tensor(2.0918, dtype=torch.float16)"
      ]
     },
     "execution_count": 21,
     "metadata": {},
     "output_type": "execute_result"
    }
   ],
   "source": []
  },
  {
   "cell_type": "code",
   "execution_count": null,
   "id": "bd07e002-71d2-4fb5-bf4f-a43f8df5609b",
   "metadata": {},
   "outputs": [],
   "source": [
    "np.linalg.norm(d[0,0].reshape(-1,1))"
   ]
  },
  {
   "cell_type": "code",
   "execution_count": null,
   "id": "1b391cd9-3982-48d7-8236-cb7022f5d33b",
   "metadata": {},
   "outputs": [],
   "source": [
    "d1, d2 = datum[0][0:4], datum[0][4:8]\n",
    "torch.cosine_similarity(d1.float(), d2.float())"
   ]
  },
  {
   "cell_type": "code",
   "execution_count": null,
   "id": "94e6ff1f-3162-43f6-8776-718887608e38",
   "metadata": {},
   "outputs": [],
   "source": [
    "stats[\"clip_features\"][1][0].norm()"
   ]
  },
  {
   "cell_type": "code",
   "execution_count": null,
   "id": "e7972037-2667-42bc-a710-cb93ad1c2233",
   "metadata": {},
   "outputs": [],
   "source": [
    "1 - 0.9**2"
   ]
  },
  {
   "cell_type": "code",
   "execution_count": null,
   "id": "f35aa4fc-60e8-4acd-af6e-a3cfb1c05c6e",
   "metadata": {},
   "outputs": [],
   "source": [
    "(0.19*torch.randn(512) + 0.9*torch.randn(512)).norm()"
   ]
  },
  {
   "cell_type": "code",
   "execution_count": null,
   "id": "e1ab3017-070d-4bc2-8811-8c73753f13c0",
   "metadata": {},
   "outputs": [],
   "source": [
    "(0.1**2 + 1**2)*orig_norm"
   ]
  },
  {
   "cell_type": "code",
   "execution_count": null,
   "id": "36039387-dbc8-419c-8a66-2af85da80454",
   "metadata": {},
   "outputs": [],
   "source": [
    "1/stats[\"clip_features\"][1]"
   ]
  },
  {
   "cell_type": "code",
   "execution_count": null,
   "id": "53be713e-9319-4650-a956-6b2345a3687b",
   "metadata": {},
   "outputs": [],
   "source": []
  }
 ],
 "metadata": {
  "kernelspec": {
   "display_name": "Python 3 (ipykernel)",
   "language": "python",
   "name": "python3"
  },
  "language_info": {
   "codemirror_mode": {
    "name": "ipython",
    "version": 3
   },
   "file_extension": ".py",
   "mimetype": "text/x-python",
   "name": "python",
   "nbconvert_exporter": "python",
   "pygments_lexer": "ipython3",
   "version": "3.9.12"
  }
 },
 "nbformat": 4,
 "nbformat_minor": 5
}
