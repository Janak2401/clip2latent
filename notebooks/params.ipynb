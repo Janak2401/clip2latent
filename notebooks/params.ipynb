{
 "cells": [
  {
   "cell_type": "code",
   "execution_count": 1,
   "id": "0cab69c5-1f53-46fe-8c31-ac799df3c689",
   "metadata": {},
   "outputs": [],
   "source": [
    "from clip2latent.models import Clip2StyleGAN\n",
    "from PIL import Image\n",
    "import torch"
   ]
  },
  {
   "cell_type": "code",
   "execution_count": 2,
   "id": "10c090aa-7cea-443a-b076-340980fb1ffe",
   "metadata": {},
   "outputs": [],
   "source": [
    "model = Clip2StyleGAN(\"best.yaml\", device=\"cuda:7\", checkpoint=\"best.ckpt\")"
   ]
  },
  {
   "cell_type": "code",
   "execution_count": 10,
   "id": "0e92ec8f-b72c-45eb-8eae-b5238662dd7f",
   "metadata": {},
   "outputs": [
    {
     "name": "stdout",
     "output_type": "stream",
     "text": [
      "48767872\n"
     ]
    }
   ],
   "source": [
    "count = 0\n",
    "import numpy as np\n",
    "for p in model.diffusion_prior.parameters():\n",
    "    count += (np.prod(p.shape))\n",
    "    \n",
    "print(count)"
   ]
  },
  {
   "cell_type": "code",
   "execution_count": null,
   "id": "430cb0df-8565-4d7c-8977-eb552f315300",
   "metadata": {},
   "outputs": [],
   "source": []
  }
 ],
 "metadata": {
  "kernelspec": {
   "display_name": "Python 3 (ipykernel)",
   "language": "python",
   "name": "python3"
  },
  "language_info": {
   "codemirror_mode": {
    "name": "ipython",
    "version": 3
   },
   "file_extension": ".py",
   "mimetype": "text/x-python",
   "name": "python",
   "nbconvert_exporter": "python",
   "pygments_lexer": "ipython3",
   "version": "3.9.12"
  }
 },
 "nbformat": 4,
 "nbformat_minor": 5
}
