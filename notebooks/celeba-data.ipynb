{
 "cells": [
  {
   "cell_type": "code",
   "execution_count": 2,
   "id": "3eeae3c0-0c89-418e-b681-f026041a3b3d",
   "metadata": {},
   "outputs": [],
   "source": [
    "import pickle\n",
    "\n",
    "with open(\"/mnt/data_rome/laion/tedigan-data/test-filenames.pickle\", 'rb') as f:\n",
    "    d = pickle.load(f)\n"
   ]
  },
  {
   "cell_type": "code",
   "execution_count": 15,
   "id": "3fe160ce-202c-4b64-88e3-9890a6b3108a",
   "metadata": {},
   "outputs": [],
   "source": [
    "base_dir = '/mnt/data_rome/laion/tedigan-data/celeba-caption/'\n",
    "all_caps = []\n",
    "for name in d:\n",
    "    full_path = base_dir + name + \".txt\"\n",
    "    with open(full_path, 'rt') as f:\n",
    "        cap = f.readlines()\n",
    "        cap = [x.strip('\\n') for x in cap]\n",
    "        all_caps.extend(cap)"
   ]
  },
  {
   "cell_type": "code",
   "execution_count": 18,
   "id": "3091049b-b0f1-4e6f-92be-5da33a9d9045",
   "metadata": {},
   "outputs": [],
   "source": [
    "len(all_caps)\n",
    "import random\n",
    "N = 6000\n",
    "rand_samples = random.sample(all_caps, N)\n",
    "with open(\"celeba-samples.txt\", \"wt\") as f:\n",
    "    for sample in rand_samples:\n",
    "        f.write(sample + \"\\n\")"
   ]
  },
  {
   "cell_type": "code",
   "execution_count": null,
   "id": "0de8c8d5-caae-49b9-82da-de93d091daf6",
   "metadata": {},
   "outputs": [],
   "source": []
  }
 ],
 "metadata": {
  "kernelspec": {
   "display_name": "Python 3 (ipykernel)",
   "language": "python",
   "name": "python3"
  },
  "language_info": {
   "codemirror_mode": {
    "name": "ipython",
    "version": 3
   },
   "file_extension": ".py",
   "mimetype": "text/x-python",
   "name": "python",
   "nbconvert_exporter": "python",
   "pygments_lexer": "ipython3",
   "version": "3.9.12"
  }
 },
 "nbformat": 4,
 "nbformat_minor": 5
}
